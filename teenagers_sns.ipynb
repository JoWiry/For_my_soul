{
 "cells": [
  {
   "cell_type": "code",
   "execution_count": 1,
   "metadata": {},
   "outputs": [],
   "source": [
    "import pandas as pd\n",
    "import numpy as np\n",
    "import seaborn as sns\n",
    "import warnings\n",
    "warnings.filterwarnings('ignore')\n",
    "import matplotlib.pyplot as plt\n",
    "from sklearn.preprocessing import StandardScaler\n",
    "from sklearn.cluster import KMeans\n",
    "from sklearn.mixture import GaussianMixture\n",
    "from sklearn.metrics import silhouette_score"
   ]
  },
  {
   "cell_type": "code",
   "execution_count": 2,
   "metadata": {},
   "outputs": [
    {
     "data": {
      "text/html": [
       "<div>\n",
       "<style scoped>\n",
       "    .dataframe tbody tr th:only-of-type {\n",
       "        vertical-align: middle;\n",
       "    }\n",
       "\n",
       "    .dataframe tbody tr th {\n",
       "        vertical-align: top;\n",
       "    }\n",
       "\n",
       "    .dataframe thead th {\n",
       "        text-align: right;\n",
       "    }\n",
       "</style>\n",
       "<table border=\"1\" class=\"dataframe\">\n",
       "  <thead>\n",
       "    <tr style=\"text-align: right;\">\n",
       "      <th></th>\n",
       "      <th>gradyear</th>\n",
       "      <th>gender</th>\n",
       "      <th>age</th>\n",
       "      <th>friends</th>\n",
       "      <th>basketball</th>\n",
       "      <th>football</th>\n",
       "      <th>soccer</th>\n",
       "      <th>softball</th>\n",
       "      <th>volleyball</th>\n",
       "      <th>swimming</th>\n",
       "      <th>...</th>\n",
       "      <th>blonde</th>\n",
       "      <th>mall</th>\n",
       "      <th>shopping</th>\n",
       "      <th>clothes</th>\n",
       "      <th>hollister</th>\n",
       "      <th>abercrombie</th>\n",
       "      <th>die</th>\n",
       "      <th>death</th>\n",
       "      <th>drunk</th>\n",
       "      <th>drugs</th>\n",
       "    </tr>\n",
       "  </thead>\n",
       "  <tbody>\n",
       "    <tr>\n",
       "      <th>0</th>\n",
       "      <td>2006</td>\n",
       "      <td>M</td>\n",
       "      <td>18.982</td>\n",
       "      <td>7</td>\n",
       "      <td>0</td>\n",
       "      <td>0</td>\n",
       "      <td>0</td>\n",
       "      <td>0</td>\n",
       "      <td>0</td>\n",
       "      <td>0</td>\n",
       "      <td>...</td>\n",
       "      <td>0</td>\n",
       "      <td>0</td>\n",
       "      <td>0</td>\n",
       "      <td>0</td>\n",
       "      <td>0</td>\n",
       "      <td>0</td>\n",
       "      <td>0</td>\n",
       "      <td>0</td>\n",
       "      <td>0</td>\n",
       "      <td>0</td>\n",
       "    </tr>\n",
       "    <tr>\n",
       "      <th>1</th>\n",
       "      <td>2006</td>\n",
       "      <td>F</td>\n",
       "      <td>18.801</td>\n",
       "      <td>0</td>\n",
       "      <td>0</td>\n",
       "      <td>1</td>\n",
       "      <td>0</td>\n",
       "      <td>0</td>\n",
       "      <td>0</td>\n",
       "      <td>0</td>\n",
       "      <td>...</td>\n",
       "      <td>0</td>\n",
       "      <td>1</td>\n",
       "      <td>0</td>\n",
       "      <td>0</td>\n",
       "      <td>0</td>\n",
       "      <td>0</td>\n",
       "      <td>0</td>\n",
       "      <td>0</td>\n",
       "      <td>0</td>\n",
       "      <td>0</td>\n",
       "    </tr>\n",
       "    <tr>\n",
       "      <th>2</th>\n",
       "      <td>2006</td>\n",
       "      <td>M</td>\n",
       "      <td>18.335</td>\n",
       "      <td>69</td>\n",
       "      <td>0</td>\n",
       "      <td>1</td>\n",
       "      <td>0</td>\n",
       "      <td>0</td>\n",
       "      <td>0</td>\n",
       "      <td>0</td>\n",
       "      <td>...</td>\n",
       "      <td>0</td>\n",
       "      <td>0</td>\n",
       "      <td>0</td>\n",
       "      <td>0</td>\n",
       "      <td>0</td>\n",
       "      <td>0</td>\n",
       "      <td>0</td>\n",
       "      <td>1</td>\n",
       "      <td>0</td>\n",
       "      <td>0</td>\n",
       "    </tr>\n",
       "    <tr>\n",
       "      <th>3</th>\n",
       "      <td>2006</td>\n",
       "      <td>F</td>\n",
       "      <td>18.875</td>\n",
       "      <td>0</td>\n",
       "      <td>0</td>\n",
       "      <td>0</td>\n",
       "      <td>0</td>\n",
       "      <td>0</td>\n",
       "      <td>0</td>\n",
       "      <td>0</td>\n",
       "      <td>...</td>\n",
       "      <td>0</td>\n",
       "      <td>0</td>\n",
       "      <td>0</td>\n",
       "      <td>0</td>\n",
       "      <td>0</td>\n",
       "      <td>0</td>\n",
       "      <td>0</td>\n",
       "      <td>0</td>\n",
       "      <td>0</td>\n",
       "      <td>0</td>\n",
       "    </tr>\n",
       "    <tr>\n",
       "      <th>4</th>\n",
       "      <td>2006</td>\n",
       "      <td>NaN</td>\n",
       "      <td>18.995</td>\n",
       "      <td>10</td>\n",
       "      <td>0</td>\n",
       "      <td>0</td>\n",
       "      <td>0</td>\n",
       "      <td>0</td>\n",
       "      <td>0</td>\n",
       "      <td>0</td>\n",
       "      <td>...</td>\n",
       "      <td>0</td>\n",
       "      <td>0</td>\n",
       "      <td>2</td>\n",
       "      <td>0</td>\n",
       "      <td>0</td>\n",
       "      <td>0</td>\n",
       "      <td>0</td>\n",
       "      <td>0</td>\n",
       "      <td>1</td>\n",
       "      <td>1</td>\n",
       "    </tr>\n",
       "  </tbody>\n",
       "</table>\n",
       "<p>5 rows × 40 columns</p>\n",
       "</div>"
      ],
      "text/plain": [
       "   gradyear gender     age  friends  basketball  football  soccer  softball   \n",
       "0      2006      M  18.982        7           0         0       0         0  \\\n",
       "1      2006      F  18.801        0           0         1       0         0   \n",
       "2      2006      M  18.335       69           0         1       0         0   \n",
       "3      2006      F  18.875        0           0         0       0         0   \n",
       "4      2006    NaN  18.995       10           0         0       0         0   \n",
       "\n",
       "   volleyball  swimming  ...  blonde  mall  shopping  clothes  hollister   \n",
       "0           0         0  ...       0     0         0        0          0  \\\n",
       "1           0         0  ...       0     1         0        0          0   \n",
       "2           0         0  ...       0     0         0        0          0   \n",
       "3           0         0  ...       0     0         0        0          0   \n",
       "4           0         0  ...       0     0         2        0          0   \n",
       "\n",
       "   abercrombie  die  death  drunk  drugs  \n",
       "0            0    0      0      0      0  \n",
       "1            0    0      0      0      0  \n",
       "2            0    0      1      0      0  \n",
       "3            0    0      0      0      0  \n",
       "4            0    0      0      1      1  \n",
       "\n",
       "[5 rows x 40 columns]"
      ]
     },
     "execution_count": 2,
     "metadata": {},
     "output_type": "execute_result"
    }
   ],
   "source": [
    "df = pd.read_csv('data/snsdata.csv')\n",
    "df.head()"
   ]
  },
  {
   "cell_type": "code",
   "execution_count": 3,
   "metadata": {},
   "outputs": [
    {
     "name": "stdout",
     "output_type": "stream",
     "text": [
      "<class 'pandas.core.frame.DataFrame'>\n",
      "RangeIndex: 30000 entries, 0 to 29999\n",
      "Data columns (total 36 columns):\n",
      " #   Column        Non-Null Count  Dtype\n",
      "---  ------        --------------  -----\n",
      " 0   basketball    30000 non-null  int64\n",
      " 1   football      30000 non-null  int64\n",
      " 2   soccer        30000 non-null  int64\n",
      " 3   softball      30000 non-null  int64\n",
      " 4   volleyball    30000 non-null  int64\n",
      " 5   swimming      30000 non-null  int64\n",
      " 6   cheerleading  30000 non-null  int64\n",
      " 7   baseball      30000 non-null  int64\n",
      " 8   tennis        30000 non-null  int64\n",
      " 9   sports        30000 non-null  int64\n",
      " 10  cute          30000 non-null  int64\n",
      " 11  sex           30000 non-null  int64\n",
      " 12  sexy          30000 non-null  int64\n",
      " 13  hot           30000 non-null  int64\n",
      " 14  kissed        30000 non-null  int64\n",
      " 15  dance         30000 non-null  int64\n",
      " 16  band          30000 non-null  int64\n",
      " 17  marching      30000 non-null  int64\n",
      " 18  music         30000 non-null  int64\n",
      " 19  rock          30000 non-null  int64\n",
      " 20  god           30000 non-null  int64\n",
      " 21  church        30000 non-null  int64\n",
      " 22  jesus         30000 non-null  int64\n",
      " 23  bible         30000 non-null  int64\n",
      " 24  hair          30000 non-null  int64\n",
      " 25  dress         30000 non-null  int64\n",
      " 26  blonde        30000 non-null  int64\n",
      " 27  mall          30000 non-null  int64\n",
      " 28  shopping      30000 non-null  int64\n",
      " 29  clothes       30000 non-null  int64\n",
      " 30  hollister     30000 non-null  int64\n",
      " 31  abercrombie   30000 non-null  int64\n",
      " 32  die           30000 non-null  int64\n",
      " 33  death         30000 non-null  int64\n",
      " 34  drunk         30000 non-null  int64\n",
      " 35  drugs         30000 non-null  int64\n",
      "dtypes: int64(36)\n",
      "memory usage: 8.2 MB\n"
     ]
    }
   ],
   "source": [
    "# оставим только признаки интересов подростков(ключевые слова)\n",
    "df.drop(['gradyear', 'gender', 'age', 'friends'], inplace=True, axis=1)\n",
    "df.info()"
   ]
  },
  {
   "attachments": {},
   "cell_type": "markdown",
   "metadata": {},
   "source": [
    "#### StandardScaler()"
   ]
  },
  {
   "cell_type": "code",
   "execution_count": 4,
   "metadata": {},
   "outputs": [
    {
     "data": {
      "text/plain": [
       "-0.33"
      ]
     },
     "metadata": {},
     "output_type": "display_data"
    }
   ],
   "source": [
    "# Нормализуем данные \n",
    "scaler = StandardScaler()\n",
    "X_norm = scaler.fit_transform(df)\n",
    "display(round(X_norm[0][0],2))\n",
    "\n"
   ]
  },
  {
   "attachments": {},
   "cell_type": "markdown",
   "metadata": {},
   "source": [
    "#### KMeans"
   ]
  },
  {
   "cell_type": "code",
   "execution_count": 5,
   "metadata": {},
   "outputs": [
    {
     "data": {
      "text/plain": [
       "857169.1"
      ]
     },
     "metadata": {},
     "output_type": "display_data"
    }
   ],
   "source": [
    "# Строим модель KMeans\n",
    "model = KMeans(\n",
    "    n_clusters=9,\n",
    "    random_state=42\n",
    "    \n",
    ")\n",
    "model.fit(X_norm)\n",
    "display(round(model.inertia_,2))"
   ]
  },
  {
   "cell_type": "code",
   "execution_count": 6,
   "metadata": {},
   "outputs": [
    {
     "data": {
      "text/plain": [
       "label\n",
       "0    19659\n",
       "3     4490\n",
       "7     2098\n",
       "1      930\n",
       "4      851\n",
       "6      762\n",
       "8      716\n",
       "5      493\n",
       "2        1\n",
       "Name: count, dtype: int64"
      ]
     },
     "execution_count": 6,
     "metadata": {},
     "output_type": "execute_result"
    }
   ],
   "source": [
    "# Узнаём сколько подростков относится к кластерам \n",
    "df.loc[:,'label'] = model.labels_\n",
    "df.label.value_counts()"
   ]
  },
  {
   "cell_type": "code",
   "execution_count": 7,
   "metadata": {},
   "outputs": [],
   "source": [
    "# 2 Способ \n",
    "#from collections import Counter\n",
    "#cluster_counts = Counter(model.labels_)\n",
    "\n",
    "# Узнаём сколько подростков относится к наиболее многочисленному кластеру\n",
    "#most_numerous_cluster = max(cluster_counts, key=cluster_counts.get)\n",
    "#teenagers_in_most_numerous_cluster = cluster_counts[most_numerous_cluster]\n",
    "# Узнаём сколько подростков относится к самому малочисленному\n",
    "#least_numerous_cluster = min(cluster_counts, key=cluster_counts.get)\n",
    "#teenagers_in_least_numerous_cluster = cluster_counts[least_numerous_cluster]\n",
    "\n",
    "#print(f\"\\nКоличество подростков в наиболее многочисленном кластере: {teenagers_in_most_numerous_cluster}\")\n",
    "#print(f\"Количество подростков в наименее многочисленном кластере: {teenagers_in_least_numerous_cluster}\")"
   ]
  },
  {
   "attachments": {},
   "cell_type": "markdown",
   "metadata": {},
   "source": [
    "#### Метод локтя"
   ]
  },
  {
   "cell_type": "code",
   "execution_count": 8,
   "metadata": {},
   "outputs": [
    {
     "data": {
      "text/plain": [
       "[<matplotlib.lines.Line2D at 0x16b78d410>]"
      ]
     },
     "execution_count": 8,
     "metadata": {},
     "output_type": "execute_result"
    },
    {
     "data": {
      "image/png": "[encoded data removed]",
      "text/plain": [
       "<Figure size 640x480 with 1 Axes>"
      ]
     },
     "metadata": {},
     "output_type": "display_data"
    }
   ],
   "source": [
    "\n",
    "# функция, которая принимает количество кластеров для k-means и матрицу с признаками объектов и возвращает инерцию \n",
    "def get_inertia(cluster_num, X_norm):\n",
    "# инициализируем алгоритм кластеризации\n",
    "    k_means =  KMeans(n_clusters=cluster_num, random_state=42)\n",
    "# запускаем алгоритм k-means\n",
    "    k_means.fit(X_norm)\n",
    "# находим значение инерции\n",
    "    inertia = k_means.inertia_\n",
    "# возвращаем значение инерции\n",
    "    return inertia\n",
    "\n",
    "# создаём пустой список для значений инерции\n",
    "inertia = []\n",
    "# итерируемся по разным размерам кластеров (от 3 до 9) и сохраняем значение инерции для каждого кластера\n",
    "for cluster_num in range(3, 10):\n",
    "# сохраняем значения\n",
    "    inertia.append(get_inertia(cluster_num, X_norm))\n",
    "\n",
    "# визуализируем, как менялась инерция в зависимости от количества кластеров\n",
    "# задаём названия осям x и y\n",
    "plt.xlabel(\"cluster\", fontsize=12)\n",
    "plt.ylabel(\"inertia\", fontsize=12)\n",
    "# рисуем изменение инерции\n",
    "plt.plot([i for i in range(3, 10)], inertia, 'xb-')"
   ]
  },
  {
   "attachments": {},
   "cell_type": "markdown",
   "metadata": {},
   "source": [
    "#### Коэффициент силуэта"
   ]
  },
  {
   "cell_type": "code",
   "execution_count": 9,
   "metadata": {},
   "outputs": [
    {
     "data": {
      "text/plain": [
       "<Axes: xlabel='cluster', ylabel='silhouette'>"
      ]
     },
     "execution_count": 9,
     "metadata": {},
     "output_type": "execute_result"
    },
    {
     "data": {
      "image/png": "[encoded data removed]",
      "text/plain": [
       "<Figure size 640x480 with 1 Axes>"
      ]
     },
     "metadata": {},
     "output_type": "display_data"
    }
   ],
   "source": [
    "# напишем функцию, как и при подсчете метода локтя\n",
    "def get_silhouette(cluster_num, X_norm):\n",
    "    k_means =  KMeans(n_clusters=cluster_num, init='k-means++', n_init=10, random_state=42)\n",
    "    k_means.fit(X_norm)\n",
    "# подсчитаем метрику силуэта, передав данные и то, к каким кластерам относятся объекты\n",
    "    silhouette = silhouette_score(X_norm, k_means.predict(X_norm))\n",
    "    return silhouette\n",
    "\n",
    "# создадим пустой словарь, ключами будут инерция и количество кластеров\n",
    "silhouette_res = {\"silhouette\": [], \"cluster\": []}\n",
    "\n",
    "for cluster_num in range(3, 10):\n",
    "    silhouette_res[\"silhouette\"].append(get_silhouette(cluster_num, X_norm))\n",
    "    silhouette_res[\"cluster\"].append(cluster_num)\n",
    "    \n",
    "# сохраним в датафрейм значение силуэта и количество кластеров\n",
    "silhouette_df = pd.DataFrame(silhouette_res)\n",
    "\n",
    "# установим стиль для визуализиции\n",
    "sns.set_style(\"darkgrid\")\n",
    "# визуализируем зависимость значения инерции от количества кластеров\n",
    "sns.lineplot(data=silhouette_df, x=\"cluster\", y=\"silhouette\", marker= \"o\")"
   ]
  },
  {
   "attachments": {},
   "cell_type": "markdown",
   "metadata": {},
   "source": [
    "#### Составляем топ 10 самых частых слов для каждого кластера"
   ]
  },
  {
   "cell_type": "code",
   "execution_count": 10,
   "metadata": {},
   "outputs": [
    {
     "name": "stdout",
     "output_type": "stream",
     "text": [
      "Cluster 0 Specific Words:\n",
      "['music', 'dance', 'god', 'hair']\n",
      "Cluster 1 Specific Words:\n",
      "['hair', 'music', 'god', 'dance']\n",
      "Cluster 2 Specific Words:\n",
      "['music', 'god', 'dance', 'hair']\n"
     ]
    }
   ],
   "source": [
    "# Выполняем сегментацию подростков\n",
    "model = KMeans(n_clusters=3, random_state=42)\n",
    "model.fit(X_norm)\n",
    "df.loc[:, 'label'] = model.labels_\n",
    "\n",
    "from collections import Counter\n",
    "k = 10\n",
    "\n",
    "# Создайте список для хранения топ-10 слов для каждого кластера\n",
    "top_words_list = []\n",
    "\n",
    "for label, group in df.groupby('label'):\n",
    "    # Вычислите среднее по каждому признаку и отсортируйте данные\n",
    "    means = group.iloc[:, :-1].mean().sort_values(ascending=False)\n",
    "    \n",
    "    # Выделим топ-10 слов\n",
    "    top_10_words = list(means.head(10).index)\n",
    "    \n",
    "    # Добавьте топ-10 слов в список\n",
    "    top_words_list.append(top_10_words)\n",
    "# Найдём пересечение топ-10 слов для каждого кластера\n",
    "common_words = set.intersection(*map(set, top_words_list))\n",
    "\n",
    "# Создадим Counter для каждого кластера\n",
    "cluster_counters = [Counter(group.iloc[:, :-1].values.flatten()) for label, group in df.groupby('label')]\n",
    "\n",
    "# Найдём слова, которые характерны для каждого кластера\n",
    "cluster_specific_words = {label: [word for word in top_words if word in common_words] for label, top_words in zip(range(k), top_words_list)}\n",
    "\n",
    "# Слова, которые характерны для каждого кластера\n",
    "for label, words in cluster_specific_words.items():\n",
    "    print(f\"Cluster {label} Specific Words:\")\n",
    "    print(words)"
   ]
  },
  {
   "cell_type": "code",
   "execution_count": 11,
   "metadata": {},
   "outputs": [],
   "source": [
    "# Ещё 1 способ \n",
    "#0\n",
    "#df = pd.read_csv('data/snsdata.csv')\n",
    "\n",
    "# ЗАДАНИЕ 4.1\n",
    "#df = df.iloc[:, 4:]\n",
    "\n",
    "# ЗАДАНИЕ 4.2\n",
    "#from sklearn.preprocessing import StandardScaler\n",
    "#X = df.values\n",
    "#scaler = StandardScaler()\n",
    "#scaler.fit(X)\n",
    "#X_norm = scaler.transform(X)\n",
    "\n",
    "# Выполняем сегментацию подростков\n",
    "#model = KMeans(n_clusters=3, random_state=42)\n",
    "#model.fit(X_norm)\n",
    "#df.loc[:, 'label'] = model.labels_\n",
    "\n",
    "#top_list = []\n",
    "#for label, group in df.groupby('label'):\n",
    " #   means = group.iloc[:,:-1].mean().sort_values(ascending=False)\n",
    "  #  top_5 = set(means.head(10).index)\n",
    "   # top_list.append(top_5)\n",
    "\n",
    "#set.intersection(*top_list)"
   ]
  },
  {
   "attachments": {},
   "cell_type": "markdown",
   "metadata": {},
   "source": [
    "#### EM-алгоритм"
   ]
  },
  {
   "cell_type": "code",
   "execution_count": 12,
   "metadata": {},
   "outputs": [
    {
     "name": "stdout",
     "output_type": "stream",
     "text": [
      "(array([0, 1, 2]), array([23426,  6573,     1]))\n"
     ]
    }
   ],
   "source": [
    "gm_clustering = GaussianMixture(n_components=3, random_state=42)\n",
    "\n",
    "# обучаем модель \n",
    "gm_clustering.fit(X_norm)\n",
    "\n",
    "# для матрицы X получаем предсказания, к какому кластеру принадлежат объекты\n",
    "gm_prediction = gm_clustering.predict(X_norm)\n",
    "\n",
    "print(np.unique(gm_prediction, return_counts=True))"
   ]
  },
  {
   "attachments": {},
   "cell_type": "markdown",
   "metadata": {},
   "source": [
    "В одном из кластеров оказался всего один человек. Давайте узнаем, что это за подросток и чем он(а) интересуется."
   ]
  },
  {
   "cell_type": "code",
   "execution_count": 14,
   "metadata": {},
   "outputs": [
    {
     "data": {
      "text/plain": [
       "blonde          327\n",
       "sex              22\n",
       "hair             12\n",
       "god              10\n",
       "drunk             6\n",
       "death             6\n",
       "die               6\n",
       "dress             2\n",
       "football          2\n",
       "dance             1\n",
       "rock              1\n",
       "band              1\n",
       "label             1\n",
       "sexy              1\n",
       "cute              1\n",
       "clothes           1\n",
       "swimming          1\n",
       "jesus             1\n",
       "shopping          0\n",
       "mall              0\n",
       "hollister         0\n",
       "abercrombie       0\n",
       "drugs             0\n",
       "basketball        0\n",
       "bible             0\n",
       "church            0\n",
       "marching          0\n",
       "kissed            0\n",
       "hot               0\n",
       "sports            0\n",
       "tennis            0\n",
       "baseball          0\n",
       "cheerleading      0\n",
       "volleyball        0\n",
       "softball          0\n",
       "soccer            0\n",
       "music             0\n",
       "dtype: int64"
      ]
     },
     "metadata": {},
     "output_type": "display_data"
    }
   ],
   "source": [
    "# Выбираем топ признаков увлечений для данноого подростка, принадлежащих кластеру с одним человеком\n",
    "pd.set_option('display.max_columns', None)  # Отображение всех столбцов в выводе\n",
    "person_solo = np.where(gm_prediction == 2)\n",
    "sorted_df = df.iloc[person_solo].max().sort_values(ascending=False)\n",
    "display(sorted_df)"
   ]
  }
 ],
 "metadata": {
  "kernelspec": {
   "display_name": "Python 3",
   "language": "python",
   "name": "python3"
  },
  "language_info": {
   "codemirror_mode": {
    "name": "ipython",
    "version": 3
   },
   "file_extension": ".py",
   "mimetype": "text/x-python",
   "name": "python",
   "nbconvert_exporter": "python",
   "pygments_lexer": "ipython3",
   "version": "3.11.1 (v3.11.1:a7a450f84a, Dec  6 2022, 15:24:06) [Clang 13.0.0 (clang-1300.0.29.30)]"
  },
  "orig_nbformat": 4,
  "vscode": {
   "interpreter": {
    "hash": "aee8b7b246df8f9039afb4144a1f6fd8d2ca17a180786b69acc140d282b71a49"
   }
  }
 },
 "nbformat": 4,
 "nbformat_minor": 2
}
